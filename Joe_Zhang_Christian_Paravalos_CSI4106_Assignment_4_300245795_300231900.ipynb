{
 "cells": [
  {
   "cell_type": "markdown",
   "metadata": {},
   "source": [
    "# **CSI 4106 Introduction to Artificial Intelligence**\n",
    "## **Assignment 4: Heuristic Search**\n",
    "\n",
    "### Identification\n",
    "\n",
    "Name: Joe Zhang <br/>\n",
    "Student Number: 300245795\n",
    "\n",
    "Name: Christian Paravalos <br/>\n",
    "Student Number: 300231900\n",
    "\n",
    "<br/>\n",
    "<hr/>"
   ]
  },
  {
   "cell_type": "markdown",
   "metadata": {},
   "source": [
    "## **Overview**\n",
    "\n",
    "The **Traveling Salesman Problem (TSP)** is a classic optimization problem in computer science and operations research. Given a set of cities and the distances between them, the goal is to find the shortest possible route that visits each city exactly once and returns to the starting city. Despite its simple formulation, solving TSP is computationally challenging because the number of possible routes grows factorially with the number of cities.\n",
    "\n",
    "TSP is classified as an NP-hard problem, meaning there is no known efficient algorithm to solve it optimally for large instances. This complexity, combined with its practical importance in fields like logistics, manufacturing, and circuit design, has made TSP a benchmark problem for evaluating optimization algorithms.\n",
    "\n",
    "In this assignment, you will explore three different approaches to tackling TSP:\n",
    "\n",
    "- **Greedy Algorithm**: A heuristic method that builds a solution incrementally by choosing locally optimal decisions.\n",
    "- **Simulated Annealing (SA)**: A probabilistic algorithm inspired by the annealing process in metallurgy.\n",
    "- **Genetic Algorithm (GA)**: An evolutionary algorithm that mimics natural selection to iteratively improve solutions.\n",
    "\n",
    "The final deliverable for this assignment will be a Jupyter Notebook documenting your implementation, results, and observations for each approach.\n",
    "\n",
    "## **Learning Objectives**\n",
    "\n",
    "- **Explore** and **implement** different search-based algorithms.\n",
    "- **Develop** a Simulated Annealing algorithm with an effective strategy for setting the initial temperature.\n",
    "- **Adapt** and **apply** a Genetic Algorithm for solving the TSP.\n",
    "- **Analyze** and **evaluate** the performance of each algorithm against known optimal solutions.\n",
    "\n",
    "## Submission \n",
    "\n",
    "- **Deadline:**\n",
    "   - Submit your notebook by December 4, 11 PM.\n",
    "- **Individual or Group Assignment:**\n",
    "   - This assignment may be undertaken either individually (group of 1 student) or collaboratively in pairs (group of 2 students)\n",
    "   - A group must submit a single joint submission.\n",
    "   - Prior to submitting, it is necessary to **register your group** on Brightspace.\n",
    "- **Submission Platform:**\n",
    "   - Upload your submission to Brightspace under the Assignment section (Assignment 4).\n",
    "- **Submission Format:**\n",
    "   - Submit a copy of your notebook on Brightspace.\n",
    "\n",
    "**Important Notice:** If the corrector cannot run your code, your submission will receive a mark of zero. It is your responsibility to ensure that your submission works from a different computer than your own and that all cells in your notebook are executable.\n",
    "\n",
    "## **Datasets**\n",
    "\n",
    "The datasets utilized in this assignment are sourced from the [TSPLIB GitHub Repository](https://github.com/mastqe/tsplib), which provides standard benchmark instances for the Traveling Salesman Problem (TSP). These datasets are defined as **Euclidean**, meaning that the distance between any two cities is calculated using the Euclidean metric based on their coordinates.\n",
    "\n",
    "For your tests, you will employ the **berlin52-24-4** and **st70-24** datasets. Each of these is a subset consisting of 24 cities from the respective problems. The lower bound on cost for these instances has been determined using dynamic programming, specifically the Held-Karp algorithm.\n",
    "\n",
    "1. **berlin52-24-4**:\n",
    "   - Number of Cities: 24\n",
    "   - Optimal Solution Cost: **5890.92**\n",
    "\n",
    "2. **st70-24-4**:\n",
    "   - Number of Cities: 24\n",
    "   - Optimal Solution Cost: **468.88**\n",
    "\n",
    "These datasets are intended for evaluating the performance of your algorithms, enabling you to compare your results with established optimal solutions. The data is accessible on GitHub at the following link: [here](https://github.com/turcotte/csi4106-f24/tree/main/assignments-data/a4). Additionally, the `extra` subfolder contains supplementary problems that may assist you in completing this assignment.\n",
    "\n",
    "For the optional bonus question, you will work with the following two datasets:\n",
    "\n",
    "3. **berlin52**:\n",
    "   - Number of Cities: 52\n",
    "   - Description: A medium-sized dataset with realistic spatial distribution of cities.\n",
    "   - Optimal Solution Cost: **7542**\n",
    "\n",
    "4. **st70**:\n",
    "   - Number of Cities: 70\n",
    "   - Description: A slightly larger dataset with increased complexity.\n",
    "   - Optimal Solution Cost: **675**\n",
    "\n",
    "<br>\n",
    "<hr/>"
   ]
  },
  {
   "cell_type": "markdown",
   "metadata": {},
   "source": [
    "## **0. Given Code**\n",
    "\n",
    "Here is a Jupyter Notebook featuring greedy algorithms and a genetic algorithm for solving the 0/1 knapsack problem.\n",
    "\n",
    "<a target=\"_blank\" href=\"https://colab.research.google.com/github/turcotte/csi4106-f24/blob/main/notebooks/lectures/16/knapsack.ipynb\"> <img src=\"https://colab.research.google.com/assets/colab-badge.svg\" alt=\"Open In Colab\"/> </a>\n",
    "\n",
    "The following two lectures may be useful for this assignment.\n",
    "\n",
    "- [Lecture 15](https://turcotte.xyz/teaching/csi-4106/lectures/15/slides.html) (simulated annealing)\n",
    "- [Lecture 16](https://turcotte.xyz/teaching/csi-4106/lectures/16/slides.html) (genetic algorithm)"
   ]
  },
  {
   "cell_type": "markdown",
   "metadata": {},
   "source": [
    "### 0.1. Imports"
   ]
  },
  {
   "cell_type": "code",
   "metadata": {
    "ExecuteTime": {
     "end_time": "2024-11-19T14:56:16.858806Z",
     "start_time": "2024-11-19T14:56:16.636697Z"
    }
   },
   "source": [
    "# Imports needed for the assignment go here:\n",
    "\n",
    "import numpy as np\n",
    "import pandas as pd\n",
    "import requests\n",
    "import math\n",
    "import time"
   ],
   "outputs": [],
   "execution_count": 12
  },
  {
   "cell_type": "markdown",
   "metadata": {},
   "source": [
    "### 0.2. Read the TSP Files\n",
    "\n",
    "A function to read TSP files from a website."
   ]
  },
  {
   "cell_type": "code",
   "metadata": {
    "ExecuteTime": {
     "end_time": "2024-11-19T14:56:16.866461Z",
     "start_time": "2024-11-19T14:56:16.862412Z"
    }
   },
   "source": [
    "def read_tsp(url):\n",
    "\n",
    "    \"\"\"\n",
    "    Reads a .tsp file from a given URL and returns a NumPy array of coordinates.\n",
    "\n",
    "    Parameters:\n",
    "    -----------\n",
    "    url : str\n",
    "        The URL of the .tsp file.\n",
    "\n",
    "    Returns:\n",
    "    --------\n",
    "    coordinates : ndarray\n",
    "        A NumPy array of coordinates extracted from the .tsp file.\n",
    "\n",
    "    Description:\n",
    "    ------------\n",
    "    This function fetches the content of a .tsp file from a specified URL and parses it to extract the city coordinates.\n",
    "    It looks for the 'NODE_COORD_SECTION' in the file to start reading coordinates and stops when it reaches 'EOF'.\n",
    "    The function handles potential errors by checking the HTTP response status and ensures that the coordinates are\n",
    "    correctly parsed into floating-point numbers.\n",
    "\n",
    "    Example:\n",
    "    --------\n",
    "    >>> url = 'https://raw.githubusercontent.com/turcotte/csi4106-f24/main/assignments-data/a4/berlin52-24-4.tsp'\n",
    "    >>> coordinates = read_tsp(url)\n",
    "    >>> print(coordinates)\n",
    "    [[37.7692, -122.4443],\n",
    "     [37.7689, -122.4240],\n",
    "     ...\n",
    "     [37.7793, -122.4192]]\n",
    "    \"\"\"\n",
    "\n",
    "    try:\n",
    "        # Fetch the content from the URL\n",
    "        response = requests.get(url)\n",
    "        response.raise_for_status()  # Raise an HTTPError for bad responses (4xx or 5xx)\n",
    "\n",
    "        # Split the content into lines\n",
    "        lines = response.text.splitlines()\n",
    "\n",
    "        # Initialize a list to store the coordinates\n",
    "        coordinates = []\n",
    "\n",
    "        # Start reading after the NODE_COORD_SECTION line\n",
    "        node_section = False\n",
    "        for line in lines:\n",
    "            line = line.strip()\n",
    "            if line == \"NODE_COORD_SECTION\":\n",
    "                node_section = True\n",
    "                continue\n",
    "            elif line == \"EOF\":\n",
    "                break\n",
    "\n",
    "            if node_section:\n",
    "                # Split the line into parts and convert to float\n",
    "                parts = line.split()\n",
    "                if len(parts) >= 3:\n",
    "                    # Some files include node indices, so we take the last two entries as coordinates\n",
    "                    x, y = float(parts[-2]), float(parts[-1])\n",
    "                    coordinates.append((x, y))\n",
    "\n",
    "        # Convert the list of coordinates to a NumPy array\n",
    "        return np.array(coordinates)\n",
    "\n",
    "    except requests.exceptions.RequestException as e:\n",
    "        print(f\"An error occurred while fetching the TSP file: {e}\")\n",
    "        return None\n",
    "    except ValueError as e:\n",
    "        print(f\"An error occurred while parsing the coordinates: {e}\")\n",
    "        return None"
   ],
   "outputs": [],
   "execution_count": 13
  },
  {
   "cell_type": "code",
   "metadata": {
    "ExecuteTime": {
     "end_time": "2024-11-19T14:58:11.541053Z",
     "start_time": "2024-11-19T14:58:11.099253Z"
    }
   },
   "source": [
    "URL = 'https://raw.githubusercontent.com/turcotte/csi4106-f24/main/assignments-data/a4/'\n",
    "\n",
    "berlin52_24_4 = read_tsp(URL + 'berlin52-24-4.tsp')\n",
    "st70_24_4 = read_tsp(URL + 'st70-24-4.tsp')\n",
    "\n",
    "berlin_52 = read_tsp(URL + 'berlin52.tsp')\n",
    "st70 = read_tsp(URL + 'st70.tsp')"
   ],
   "outputs": [],
   "execution_count": 44
  },
  {
   "cell_type": "markdown",
   "metadata": {},
   "source": [
    "The following function accepts the coordinates of the cities as input and outputs a distance matrix."
   ]
  },
  {
   "cell_type": "code",
   "metadata": {
    "ExecuteTime": {
     "end_time": "2024-11-19T14:56:17.221315Z",
     "start_time": "2024-11-19T14:56:17.218566Z"
    }
   },
   "source": [
    "def get_distance_matrix(coordinates):\n",
    "\n",
    "    \"\"\"\n",
    "        Takes coordinates input and returns distance matrix\n",
    "        Input: coordinates (nn.array) - the input coordinates\n",
    "        Output: distance_matrix (np.array) - the (num_cities x num_cities) distance matrix\n",
    "    \"\"\"\n",
    "\n",
    "    num_cities = len(coordinates)\n",
    "    distance_matrix = np.zeros((num_cities, num_cities))\n",
    "\n",
    "    for i in range(num_cities):\n",
    "        for j in range(num_cities):\n",
    "            distance_matrix[i][j] = np.linalg.norm(coordinates[i] - coordinates[j])\n",
    "            \n",
    "    return distance_matrix "
   ],
   "outputs": [],
   "execution_count": 15
  },
  {
   "cell_type": "markdown",
   "metadata": {},
   "source": [
    "The following functions may assist in visualizing results and debugging your programs."
   ]
  },
  {
   "cell_type": "code",
   "metadata": {
    "ExecuteTime": {
     "end_time": "2024-11-19T14:56:17.230614Z",
     "start_time": "2024-11-19T14:56:17.227412Z"
    }
   },
   "source": [
    "import matplotlib.pyplot as plt\n",
    "\n",
    "def plot_cities(coordinates, title=\"Cities in the Traveling Salesman Problem\"):\n",
    "\n",
    "    \"\"\"\n",
    "    Plots the given coordinates representing cities.\n",
    "    \n",
    "    Parameters:\n",
    "    - coordinates: A 2D NumPy array of shape (n, 2) representing the (x, y) coordinates.\n",
    "    - title: Title for the plot.\n",
    "    \"\"\"\n",
    "\n",
    "    # Extract x and y coordinates\n",
    "    x = coordinates[:, 0]\n",
    "    y = coordinates[:, 1]\n",
    "\n",
    "    plt.figure(figsize=(6, 6))\n",
    "\n",
    "    # Plot the cities as red dots\n",
    "    plt.scatter(x, y, c='red', zorder=2)\n",
    "\n",
    "    # Annotate the cities with their indices\n",
    "    for i, (xi, yi) in enumerate(zip(x, y)):\n",
    "        plt.annotate(str(i + 1), (xi, yi), textcoords=\"offset points\", xytext=(0, 5), ha='center')\n",
    "\n",
    "    # Set title and labels\n",
    "    plt.title(title)\n",
    "    plt.xlabel('X Coordinate')\n",
    "    plt.ylabel('Y Coordinate')\n",
    "    plt.grid(True)\n",
    "    plt.axis('equal')  # Equal scaling for x and y axes\n",
    "    plt.show()"
   ],
   "outputs": [],
   "execution_count": 16
  },
  {
   "cell_type": "code",
   "metadata": {
    "ExecuteTime": {
     "end_time": "2024-11-19T14:56:17.507688Z",
     "start_time": "2024-11-19T14:56:17.236423Z"
    }
   },
   "source": [
    "plot_cities(berlin52_24_4, title='Cities for berlin52_24_4.tsp')"
   ],
   "outputs": [
    {
     "data": {
      "text/plain": [
       "<Figure size 600x600 with 1 Axes>"
      ],
      "image/png": "[encoded data removed]"
     },
     "metadata": {},
     "output_type": "display_data"
    }
   ],
   "execution_count": 17
  },
  {
   "cell_type": "code",
   "metadata": {
    "ExecuteTime": {
     "end_time": "2024-11-19T14:56:17.618001Z",
     "start_time": "2024-11-19T14:56:17.514790Z"
    }
   },
   "source": [
    "plot_cities(st70_24_4, title='Cities for st70_24_4.tsp')"
   ],
   "outputs": [
    {
     "data": {
      "text/plain": [
       "<Figure size 600x600 with 1 Axes>"
      ],
      "image/png": "[encoded data removed]"
     },
     "metadata": {},
     "output_type": "display_data"
    }
   ],
   "execution_count": 18
  },
  {
   "cell_type": "code",
   "metadata": {
    "ExecuteTime": {
     "end_time": "2024-11-19T14:56:17.635644Z",
     "start_time": "2024-11-19T14:56:17.631545Z"
    }
   },
   "source": [
    "def plot_tsp_path(coordinates, path=None, title=\"Traveling Salesman Problem\"):\n",
    "\n",
    "    \"\"\"\n",
    "    Plots the given coordinates and optionally a path for the TSP.\n",
    "    \n",
    "    Parameters:\n",
    "    - coordinates: A 2D NumPy array of shape (n, 2) representing the (x, y) coordinates.\n",
    "    - path: A list or array of indices representing the order of visiting the nodes. If None, nodes are connected in input order.\n",
    "    - title: Title for the plot.\n",
    "    \"\"\"\n",
    "\n",
    "    # Extract x and y coordinates\n",
    "    x = coordinates[:, 0]\n",
    "    y = coordinates[:, 1]\n",
    "\n",
    "    plt.figure(figsize=(6, 6))\n",
    "\n",
    "    # If a path is given, reorder the coordinates\n",
    "    if path is not None:\n",
    "        x = x[path]\n",
    "        y = y[path]\n",
    "    \n",
    "    # Plot the nodes\n",
    "    plt.scatter(x, y, c='red', zorder=2)\n",
    "\n",
    "    # Annotate the nodes with their indices\n",
    "    for i, (xi, yi) in enumerate(zip(x, y)):\n",
    "        plt.annotate(str(i + 1), (xi, yi), textcoords=\"offset points\", xytext=(0, 5), ha='center')\n",
    "\n",
    "    # Plot the path\n",
    "    plt.plot(x, y, 'b-', zorder=1)\n",
    "\n",
    "    # If a path is provided, connect the last point to the first to complete the tour\n",
    "    if path is not None:\n",
    "        plt.plot([x[-1], x[0]], [y[-1], y[0]], 'b-', zorder=1)\n",
    "\n",
    "    # Set title and labels\n",
    "    plt.title(title)\n",
    "    plt.xlabel('X Coordinate')\n",
    "    plt.ylabel('Y Coordinate')\n",
    "    plt.grid(True)\n",
    "    plt.axis('equal')  # Equal scaling for x and y axes\n",
    "    plt.show()"
   ],
   "outputs": [],
   "execution_count": 19
  },
  {
   "cell_type": "markdown",
   "metadata": {},
   "source": [
    "<hr/>\n",
    "\n",
    "## 1. Implement the Algorithms"
   ]
  },
  {
   "cell_type": "markdown",
   "metadata": {},
   "source": [
    "### 1.1. Implement a solver for the TSP using Greedy Algorithm\n",
    "\n",
    "The **nearest neighbor heuristic** is a greedy algorithm used to find a feasible solution to the Traveling Salesman Problem (TSP). \n",
    "- The process begins by selecting a starting city and iteratively visiting the nearest unvisited city until all cities are visited. The tour is completed by returning to the starting point. \n",
    "- This procedure is repeated for each city as the initial starting point, and the shortest resulting tour is selected. \n",
    "- The algorithm strictly evaluates only valid routes, ensuring each city is visited exactly once. \n",
    "- While this approach efficiently constructs a feasible TSP solution, it does not ensure an optimal solution."
   ]
  },
  {
   "cell_type": "code",
   "metadata": {
    "ExecuteTime": {
     "end_time": "2024-11-19T14:56:17.654784Z",
     "start_time": "2024-11-19T14:56:17.641597Z"
    }
   },
   "source": [
    "def greedy_tsp(distance_matrix):\n",
    "\n",
    "    num_cities = len(distance_matrix)\n",
    "\n",
    "    best_route = None\n",
    "\n",
    "    best_distance = np.inf\n",
    "\n",
    "    for start_city in range(num_cities):\n",
    "        unvisited = set(range(num_cities))\n",
    "\n",
    "        current_city = start_city\n",
    "\n",
    "        route = [current_city]\n",
    "\n",
    "        total_distance = 0\n",
    "        best_route = route\n",
    "\n",
    "        # Continue until all cities are visited\n",
    "        while unvisited:\n",
    "\n",
    "            # Select the nearest unvisited city\n",
    "            min_distance = np.inf\n",
    "            nearest_city = None\n",
    "\n",
    "            for city in unvisited:\n",
    "                    distance = distance_matrix[current_city][city]\n",
    "                    if distance < min_distance:\n",
    "                        min_distance = distance\n",
    "                        nearest_city = city\n",
    "\n",
    "            unvisited.remove(nearest_city)\n",
    "\n",
    "            route.append(nearest_city)\n",
    "\n",
    "            total_distance += distance_matrix[current_city, nearest_city]\n",
    "\n",
    "            current_city = nearest_city\n",
    "\n",
    "        # Return to the starting city\n",
    "        total_distance += distance_matrix[current_city, start_city]\n",
    "\n",
    "        if total_distance < best_distance:\n",
    "            best_distance = total_distance\n",
    "            best_route = route\n",
    "\n",
    "    print(f'Best Route: {best_route}')\n",
    "    print(f'Best Distance: {best_distance}')\n",
    "\n",
    "    return best_route, best_distance\n",
    "\n",
    "berlin52_24_4_distance_matrix = get_distance_matrix(berlin52_24_4)\n",
    "st70_24_4_distance_matrix = get_distance_matrix(st70_24_4)\n",
    "\n",
    "greedy_tsp(berlin52_24_4_distance_matrix)\n",
    "greedy_tsp(st70_24_4_distance_matrix)\n"
   ],
   "outputs": [
    {
     "name": "stdout",
     "output_type": "stream",
     "text": [
      "Best Route: [23, 23, 15, 2, 14, 21, 12, 6, 19, 0, 18, 16, 3, 17, 8, 20, 11, 13, 10, 7, 1, 22, 5, 9, 4]\n",
      "Best Distance: 7029.605933260265\n",
      "Best Route: [23, 23, 8, 14, 22, 13, 21, 11, 18, 15, 6, 17, 16, 7, 0, 12, 9, 3, 2, 19, 20, 4, 10, 1, 5]\n",
      "Best Distance: 565.4375142594132\n"
     ]
    },
    {
     "data": {
      "text/plain": [
       "([23,\n",
       "  23,\n",
       "  8,\n",
       "  14,\n",
       "  22,\n",
       "  13,\n",
       "  21,\n",
       "  11,\n",
       "  18,\n",
       "  15,\n",
       "  6,\n",
       "  17,\n",
       "  16,\n",
       "  7,\n",
       "  0,\n",
       "  12,\n",
       "  9,\n",
       "  3,\n",
       "  2,\n",
       "  19,\n",
       "  20,\n",
       "  4,\n",
       "  10,\n",
       "  1,\n",
       "  5],\n",
       " 565.4375142594132)"
      ]
     },
     "execution_count": 20,
     "metadata": {},
     "output_type": "execute_result"
    }
   ],
   "execution_count": 20
  },
  {
   "cell_type": "markdown",
   "metadata": {},
   "source": [
    "### 1.2. Implement a solver for the TSP using Simulated Annealing\n",
    "\n",
    "For the implementation of Simulated Annealing (SA) algorithm below, **implement a strategy to determine the initial temperature for the search**.\n",
    "\n",
    "**Suggestions**:\n",
    "- Calculate the cost of a random tour and set an initial temperature such that the acceptance rate of new solutions is between 60% and 80%.\n",
    "- Alternatively, perform a few preliminary iterations of the SA algorithm, gradually reducing the temperature until the acceptance rate achieves the desired range of 60% to 80%. Then, restart with this temperature.\n",
    "\n",
    "Specifically, you need to finalize the implementation of the `get_initial_temperature` method below."
   ]
  },
  {
   "cell_type": "code",
   "metadata": {
    "ExecuteTime": {
     "end_time": "2024-11-19T14:56:17.669162Z",
     "start_time": "2024-11-19T14:56:17.666345Z"
    }
   },
   "source": [
    "def calculate_total_distance(route, distance_matrix):\n",
    "\n",
    "    \"\"\"\n",
    "    Calculate the total distance of a given route based on the distance matrix.\n",
    "\n",
    "    Parameters:\n",
    "    -----------\n",
    "    route : ndarray\n",
    "        An array representing the order of cities in the route (a permutation of city indices).\n",
    "    distance_matrix : ndarray\n",
    "        A square matrix where entry (i, j) represents the distance between city i and city j.\n",
    "\n",
    "    Returns:\n",
    "    --------\n",
    "    total_distance : float\n",
    "        The total distance of the route, including the return to the starting city.\n",
    "\n",
    "    Description:\n",
    "    ------------\n",
    "    The function computes the sum of distances between consecutive cities in the route\n",
    "    and adds the distance from the last city back to the first city to complete the tour.\n",
    "    It assumes that the distance matrix is symmetric and non-negative.\n",
    "    \"\"\"\n",
    "    \n",
    "    total_distance = 0\n",
    "\n",
    "    for i in range(len(route) - 1):\n",
    "        total_distance += distance_matrix[route[i], route[i + 1]]\n",
    "\n",
    "    total_distance += distance_matrix[route[-1], route[0]]  # Back to start\n",
    "\n",
    "    return total_distance"
   ],
   "outputs": [],
   "execution_count": 21
  },
  {
   "cell_type": "code",
   "metadata": {
    "ExecuteTime": {
     "end_time": "2024-11-19T14:56:17.690404Z",
     "start_time": "2024-11-19T14:56:17.687643Z"
    }
   },
   "source": [
    "def get_neighbor(route):\n",
    "\n",
    "    \"\"\"\n",
    "    Generate a neighboring solution by reversing a random segment of the route.\n",
    "\n",
    "    Parameters:\n",
    "    -----------\n",
    "    route : ndarray\n",
    "        An array representing the current route (a permutation of city indices).\n",
    "\n",
    "    Returns:\n",
    "    --------\n",
    "    new_route : ndarray\n",
    "        A new route obtained by reversing the segment between two randomly chosen indices.\n",
    "\n",
    "    Description:\n",
    "    ------------\n",
    "    This method selects two random indices, `a` and `b`, within the route and reverses the\n",
    "    segment between them (inclusive). It is commonly used in optimization algorithms like \n",
    "    Simulated Annealing to explore neighboring solutions in the search space.\n",
    "    \"\"\"\n",
    "\n",
    "    a, b = np.random.randint(0, len(route), size=2)\n",
    "\n",
    "    if a > b:\n",
    "        a, b = b, a\n",
    "\n",
    "    new_route = route.copy()\n",
    "    new_route[a:b+1] = new_route[a:b+1][::-1]  # Reverse the segment between a and b\n",
    "    \n",
    "    return new_route"
   ],
   "outputs": [],
   "execution_count": 22
  },
  {
   "cell_type": "markdown",
   "metadata": {},
   "source": [
    "Finalize the implementation of the `get_initial_temperature` method. You may introduce additional parameters to the function definition as needed; ensure that any modifications are consistently reflected in all methods that invoke this function."
   ]
  },
  {
   "cell_type": "code",
   "metadata": {
    "ExecuteTime": {
     "end_time": "2024-11-19T14:56:17.696879Z",
     "start_time": "2024-11-19T14:56:17.693570Z"
    }
   },
   "source": [
    "def get_initial_temperature(distance_matrix):\n",
    "\n",
    "    \"\"\"\n",
    "    Estimate an initial temperature for the Simulated Annealing algorithm.\n",
    "\n",
    "    Parameters:\n",
    "    -----------\n",
    "    distance_matrix : ndarray\n",
    "        A square matrix where entry (i, j) represents the distance between city i and city j.\n",
    "\n",
    "    Returns:\n",
    "    --------\n",
    "    initial_temp : float\n",
    "        The estimated initial temperature to achieve the specified acceptance rate.\n",
    "\n",
    "    Description:\n",
    "    ------------\n",
    "    The function:\n",
    "        - Complete this section\n",
    "    \"\"\"\n",
    "\n",
    "    initial_temp = 0\n",
    "    counter = 0\n",
    "\n",
    "    # Code goes here\n",
    "    for i in range(1000):\n",
    "        num_cities = len(distance_matrix)\n",
    "        current_route = np.arange(num_cities)\n",
    "        np.random.shuffle(current_route)\n",
    "        current_cost = calculate_total_distance(current_route, distance_matrix)\n",
    "\n",
    "        neighbor_route = get_neighbor(current_route)\n",
    "        neighbor_cost = calculate_total_distance(neighbor_route, distance_matrix)\n",
    "\n",
    "        if current_cost < neighbor_cost:\n",
    "            initial_temp += -(neighbor_cost - current_cost)/np.log(0.8)\n",
    "            counter+=1\n",
    "\n",
    "    initial_temp = initial_temp/counter\n",
    "\n",
    "    return initial_temp"
   ],
   "outputs": [],
   "execution_count": 23
  },
  {
   "cell_type": "code",
   "metadata": {
    "ExecuteTime": {
     "end_time": "2024-11-19T14:56:17.710632Z",
     "start_time": "2024-11-19T14:56:17.706559Z"
    }
   },
   "source": [
    "def simulated_annealing(distance_matrix, initial_temp, cooling_rate, max_iterations):\n",
    "\n",
    "    \"\"\"\n",
    "    Perform the Simulated Annealing algorithm to approximate a solution for the Traveling Salesman Problem (TSP).\n",
    "\n",
    "    Parameters:\n",
    "    -----------\n",
    "    distance_matrix : ndarray\n",
    "        A square matrix where entry (i, j) represents the distance between city i and city j.\n",
    "    initial_temp : float\n",
    "        The initial temperature for the annealing process.\n",
    "    cooling_rate : float\n",
    "        The rate at which the temperature decreases, typically a value between 0 and 1.\n",
    "    max_iterations : int\n",
    "        The maximum number of iterations to perform.\n",
    "\n",
    "    Returns:\n",
    "    --------\n",
    "    best_route : ndarray\n",
    "        The order of cities in the best (shortest) route found.\n",
    "    best_cost : float\n",
    "        The total distance of the best route.\n",
    "    temperatures : list\n",
    "        A list of temperature values at each iteration, useful for analysis or plotting.\n",
    "    costs : list\n",
    "        A list of route costs (distances) at each iteration, useful for analysis or plotting.\n",
    "\n",
    "    Description:\n",
    "    ------------\n",
    "    Simulated Annealing (SA) is a probabilistic optimization algorithm inspired by the annealing process in metallurgy. \n",
    "    This implementation:\n",
    "    - Starts with a random route and iteratively improves it.\n",
    "    - Accepts worse solutions with a probability dependent on the temperature to escape local minima.\n",
    "    - Reduces the temperature gradually to focus on exploitation as the algorithm progresses.\n",
    "    - Returns the best route found along with intermediate data for analysis.\n",
    "\n",
    "    \"\"\"\n",
    "\n",
    "    num_cities = len(distance_matrix)\n",
    "    current_route = np.arange(num_cities)\n",
    "    np.random.shuffle(current_route)\n",
    "    current_cost = calculate_total_distance(current_route, distance_matrix)\n",
    "    \n",
    "    best_route = current_route.copy()\n",
    "    best_cost = current_cost\n",
    "\n",
    "    temperatures = []\n",
    "    costs = []\n",
    "\n",
    "    temperature = initial_temp\n",
    "\n",
    "    # Collect intermediate solutions\n",
    "    intermediate_solutions = []\n",
    "    \n",
    "    for iteration in range(max_iterations):\n",
    "\n",
    "        neighbor_route = get_neighbor(current_route)\n",
    "        neighbor_cost = calculate_total_distance(neighbor_route, distance_matrix)\n",
    "        \n",
    "        # Accept neighbor if it's better, or with a probability if it's worse\n",
    "        if neighbor_cost < current_cost or np.random.rand() < np.exp(-(neighbor_cost - current_cost) / temperature):\n",
    "            current_route = neighbor_route\n",
    "            current_cost = neighbor_cost\n",
    "\n",
    "            if current_cost < best_cost:\n",
    "                best_route = current_route.copy()\n",
    "                best_cost = current_cost\n",
    "\n",
    "        # Store temperature and cost for plotting\n",
    "        temperatures.append(temperature)\n",
    "        costs.append(current_cost)\n",
    "\n",
    "        # Cool down the temperature\n",
    "        temperature *= cooling_rate\n",
    "\n",
    "    return best_route, best_cost, temperatures, costs"
   ],
   "outputs": [],
   "execution_count": 24
  },
  {
   "cell_type": "code",
   "metadata": {
    "ExecuteTime": {
     "end_time": "2024-11-19T14:56:17.722940Z",
     "start_time": "2024-11-19T14:56:17.720044Z"
    }
   },
   "source": [
    "def simulated_annealing_do_n(distance_matrix, initial_temp, cooling_rate=0.995, max_iterations=1000, repeats=20):\n",
    "\n",
    "    \"\"\"\n",
    "    Perform Simulated Annealing multiple times and return the best result across all runs.\n",
    "\n",
    "    Parameters:\n",
    "    -----------\n",
    "    distance_matrix : ndarray\n",
    "        A square matrix where entry (i, j) represents the distance between city i and city j.\n",
    "    initial_temp : float\n",
    "        The initial temperature for the annealing process.\n",
    "    cooling_rate : float\n",
    "        The rate at which the temperature decreases, typically a value between 0 and 1.\n",
    "    max_iterations : int\n",
    "        The maximum number of iterations for each Simulated Annealing run.\n",
    "    repeats : int\n",
    "        The number of times to repeat the Simulated Annealing process.\n",
    "\n",
    "    Returns:\n",
    "    --------\n",
    "    best_tour : ndarray\n",
    "        The order of cities in the best (shortest) tour found across all runs.\n",
    "    best_distance : float\n",
    "        The total distance of the best tour.\n",
    "    best_temperatures : list\n",
    "        A list of temperature values from the best run, useful for analysis or plotting.\n",
    "    best_costs : list\n",
    "        A list of route costs (distances) from the best run, useful for analysis or plotting.\n",
    "\n",
    "    Notes:\n",
    "    ------\n",
    "    This method leverages the `simulated_annealing` function to perform individual optimization runs. \n",
    "    By repeating the process multiple times, it increases the likelihood of finding a globally optimal or near-optimal solution.\n",
    "    \"\"\"\n",
    "\n",
    "    results = [\n",
    "        simulated_annealing(distance_matrix, initial_temp, cooling_rate, max_iterations)\n",
    "        for _ in range(repeats)\n",
    "    ]\n",
    "\n",
    "    # Find the best result by minimizing the distance\n",
    "    best_tour, best_distance, best_temperatures, best_costs = min(results, key=lambda x: x[1])\n",
    "\n",
    "    return best_tour, best_distance, best_temperatures, best_costs"
   ],
   "outputs": [],
   "execution_count": 25
  },
  {
   "cell_type": "markdown",
   "metadata": {},
   "source": [
    "The following functions may assist in visualizing results and debugging your programs."
   ]
  },
  {
   "cell_type": "code",
   "metadata": {
    "ExecuteTime": {
     "end_time": "2024-11-19T14:56:17.736437Z",
     "start_time": "2024-11-19T14:56:17.733345Z"
    }
   },
   "source": [
    "def plot_temperature_and_cost(temperatures, costs):\n",
    "\n",
    "    \"\"\"\n",
    "    Plot the temperature and cost values over iterations in a side-by-side graph.\n",
    "\n",
    "    Parameters:\n",
    "    -----------\n",
    "    temperatures : list or ndarray\n",
    "        A sequence of temperature values recorded at each iteration of an algorithm (e.g., Simulated Annealing).\n",
    "    costs : list or ndarray\n",
    "        A sequence of cost values (e.g., total distance or energy) recorded at each iteration.\n",
    "\n",
    "    Description:\n",
    "    ------------\n",
    "    This function generates two subplots:\n",
    "    1. **Temperature Over Iterations**: Plots how the temperature changes over time, which is useful for visualizing the cooling schedule in algorithms like Simulated Annealing.\n",
    "    2. **Cost Over Iterations**: Plots the cost (e.g., total distance in TSP) at each iteration, showing how the solution improves over time.\n",
    "\n",
    "    The plots are arranged side by side for easy comparison between the temperature schedule and the corresponding cost progression. The function adjusts the layout for better spacing and displays the combined figure.\n",
    "\n",
    "    Example:\n",
    "    --------\n",
    "    >>> plot_temperature_and_cost(temperatures, costs)\n",
    "\n",
    "    Notes:\n",
    "    ------\n",
    "    - Ensure that the lengths of `temperatures` and `costs` are equal, corresponding to the number of iterations.\n",
    "    - Requires `matplotlib.pyplot` as `plt` to be imported before calling this function.\n",
    "    \"\"\"\n",
    "    \n",
    "    # Plot temperature and cost graphs\n",
    "    plt.figure(figsize=(12, 5))\n",
    "\n",
    "    plt.subplot(1, 2, 1)\n",
    "    plt.plot(temperatures)\n",
    "    plt.title(\"Temperature Over Iterations\")\n",
    "    plt.xlabel(\"Iteration\")\n",
    "    plt.ylabel(\"Temperature\")\n",
    "\n",
    "    plt.subplot(1, 2, 2)\n",
    "    plt.plot(costs)\n",
    "    plt.title(\"Cost Over Iterations\")\n",
    "    plt.xlabel(\"Iteration\")\n",
    "    plt.ylabel(\"Cost\")\n",
    "\n",
    "    plt.tight_layout()\n",
    "    plt.show()"
   ],
   "outputs": [],
   "execution_count": 26
  },
  {
   "cell_type": "markdown",
   "metadata": {},
   "source": [
    "### 1.3. Implement a solver for the TSP using Genetic Algorithm\n",
    "\n",
    "You will find below a partial implementation of a **Genetic Algorithm (GA)** to find an approximate solution to the TSP.\n",
    "\n",
    "The main steps of the algorithm are:\n",
    "\n",
    "1. **Initialization**: Create a random initial population of routes.\n",
    "2. **Evaluation**: Compute the fitness of individuals based on their route distances. (partial implementation)\n",
    "3. **Elitism**: Preserve the top-performing individuals for the next generation.\n",
    "4. **Selection**: Choose parents using tournament or roulette wheel selection.\n",
    "5. **Crossover**: Generate offspring by combining parents using a crossover operator. (partial implementation)\n",
    "6. **Mutation**: Introduce diversity by randomly mutating offspring. (partial implementation)\n",
    "7. **Replacement**: Combine elites and offspring to form the next generation.\n",
    "8. Repeat steps 2-7 for a fixed number of generations, tracking the best and average distances.\n",
    "\n",
    "Ensure that all generated solutions are valid tours, with each city visited exactly once.\n",
    "\n",
    "Specifically, you must implement `evaluate_fitness`, `crossover_operator`, `mutation`."
   ]
  },
  {
   "cell_type": "code",
   "metadata": {
    "ExecuteTime": {
     "end_time": "2024-11-19T14:56:17.748311Z",
     "start_time": "2024-11-19T14:56:17.745722Z"
    }
   },
   "source": [
    "def initialize_population(pop_size, num_cities):\n",
    "\n",
    "    \"\"\"\n",
    "    Generate an initial population of random routes for a Genetic Algorithm.\n",
    "\n",
    "    Parameters:\n",
    "    -----------\n",
    "    pop_size : int\n",
    "        The number of individuals (routes) in the population.\n",
    "    num_cities : int\n",
    "        The number of cities in the Traveling Salesman Problem (TSP).\n",
    "\n",
    "    Returns:\n",
    "    --------\n",
    "    population : ndarray\n",
    "        A 2D array of shape (pop_size, num_cities), where each row represents\n",
    "        a random permutation of city indices (a potential solution).\n",
    "\n",
    "    Description:\n",
    "    ------------\n",
    "    This function initializes a population by creating `pop_size` random permutations\n",
    "    of city indices, ensuring diversity in the initial solutions. Each individual\n",
    "    represents a valid route for the TSP.\n",
    "    \"\"\"\n",
    "    \n",
    "    return np.array([np.random.permutation(num_cities) for _ in range(pop_size)])"
   ],
   "outputs": [],
   "execution_count": 27
  },
  {
   "cell_type": "markdown",
   "metadata": {},
   "source": [
    "Finalize the implementation of the `evaluate_fitness` method."
   ]
  },
  {
   "cell_type": "code",
   "metadata": {
    "ExecuteTime": {
     "end_time": "2024-11-19T14:56:17.760383Z",
     "start_time": "2024-11-19T14:56:17.757712Z"
    }
   },
   "source": [
    "def evaluate_fitness(population, distance_matrix):\n",
    "\n",
    "    \"\"\"\n",
    "    Evaluate the fitness of each individual in a population for a Genetic Algorithm.\n",
    "\n",
    "    Parameters:\n",
    "    -----------\n",
    "    population : ndarray\n",
    "        A 2D array where each row is an individual route (a permutation of city indices).\n",
    "    distance_matrix : ndarray\n",
    "        A square matrix where entry (i, j) represents the distance between city i and city j.\n",
    "\n",
    "    Returns:\n",
    "    --------\n",
    "    fitness : ndarray\n",
    "        A 1D array containing the fitness values for each individual in the population.\n",
    "        Fitness is calculated as the reciprocal of the total distance of the route.\n",
    "    total_distances : ndarray\n",
    "        A 1D array containing the total distances of the routes for each individual.\n",
    "\n",
    "    Description:\n",
    "    ------------\n",
    "    This function calculates:\n",
    "    1. The total distance of each individual's route by summing the distances between consecutive cities,\n",
    "       including the return to the starting city.\n",
    "    2. The fitness value for each individual as the reciprocal of its total distance\n",
    "       (with a small constant added to avoid division by zero).\n",
    "\n",
    "    Fitness values are higher for shorter routes, encouraging better solutions during selection.\n",
    "    \"\"\"\n",
    "\n",
    "    total_distances = np.zeros(population.shape[0])\n",
    "\n",
    "    for i, route in enumerate(population):\n",
    "        total_distances[i] = calculate_total_distance(route, distance_matrix)\n",
    "\n",
    "    fitness = 1 / (total_distances + 1e-5)\n",
    "\n",
    "    return fitness, total_distances"
   ],
   "outputs": [],
   "execution_count": 28
  },
  {
   "cell_type": "code",
   "metadata": {
    "ExecuteTime": {
     "end_time": "2024-11-19T14:56:17.772856Z",
     "start_time": "2024-11-19T14:56:17.769709Z"
    }
   },
   "source": [
    "def tournament_selection(population, fitness, tournament_size):\n",
    "\n",
    "    \"\"\"\n",
    "    Perform tournament selection to choose individuals for the next generation in a Genetic Algorithm.\n",
    "\n",
    "    Parameters:\n",
    "    -----------\n",
    "    population : ndarray\n",
    "        A 2D array where each row represents an individual (a potential solution).\n",
    "    fitness : ndarray\n",
    "        A 1D array containing the fitness values of the individuals in the population.\n",
    "    tournament_size : int\n",
    "        The number of individuals randomly selected for each tournament.\n",
    "\n",
    "    Returns:\n",
    "    --------\n",
    "    selected_population : ndarray\n",
    "        A 2D array of the same shape as `population`, containing the selected individuals\n",
    "        for the next generation.\n",
    "\n",
    "    Description:\n",
    "    ------------\n",
    "    Tournament selection works as follows:\n",
    "    1. For each individual to be selected, randomly choose `tournament_size` participants from the population.\n",
    "    2. Compare their fitness values and select the individual with the highest fitness.\n",
    "    3. Repeat this process until a new population of the same size as the original is formed.\n",
    "\n",
    "    This method balances exploitation (choosing the best individuals) with exploration (random selection\n",
    "    of participants), allowing the algorithm to focus on high-quality solutions while maintaining diversity.\n",
    "    \"\"\"\n",
    "\n",
    "    pop_size = population.shape[0]\n",
    "    selected_indices = []\n",
    "    \n",
    "    for _ in range(pop_size):\n",
    "\n",
    "        participants = np.random.choice(pop_size, tournament_size, replace=False)\n",
    "        best = participants[np.argmax(fitness[participants])]\n",
    "        selected_indices.append(best)\n",
    "\n",
    "    return population[selected_indices]"
   ],
   "outputs": [],
   "execution_count": 29
  },
  {
   "cell_type": "code",
   "metadata": {
    "ExecuteTime": {
     "end_time": "2024-11-19T14:56:17.784402Z",
     "start_time": "2024-11-19T14:56:17.781849Z"
    }
   },
   "source": [
    "def roulette_selection(population, fitness):\n",
    "\n",
    "    \"\"\"\n",
    "    Perform roulette wheel selection to choose individuals for the next generation in a Genetic Algorithm.\n",
    "\n",
    "    Parameters:\n",
    "    -----------\n",
    "    population : ndarray\n",
    "        A 2D array where each row represents an individual (a potential solution).\n",
    "    fitness : ndarray\n",
    "        A 1D array containing the fitness values of the individuals in the population.\n",
    "\n",
    "    Returns:\n",
    "    --------\n",
    "    selected_population : ndarray\n",
    "        A 2D array of the same shape as `population`, containing the selected individuals\n",
    "        for the next generation.\n",
    "\n",
    "    Description:\n",
    "    ------------\n",
    "    Roulette wheel selection assigns selection probabilities to individuals based on their fitness:\n",
    "    1. Compute the total fitness of the population.\n",
    "    2. Normalize fitness values to create probabilities for each individual.\n",
    "    3. Randomly select individuals from the population according to their probabilities.\n",
    "\n",
    "    This method favors individuals with higher fitness, increasing their likelihood of being selected,\n",
    "    while still allowing lower-fitness individuals a chance, maintaining genetic diversity.\n",
    "    \"\"\"\n",
    "\n",
    "    total_fitness = np.sum(fitness)\n",
    "    probabilities = fitness / total_fitness\n",
    "    pop_size = population.shape[0]\n",
    "    selected_indices = np.random.choice(pop_size, size=pop_size, p=probabilities)\n",
    "    \n",
    "    return population[selected_indices]"
   ],
   "outputs": [],
   "execution_count": 30
  },
  {
   "cell_type": "markdown",
   "metadata": {},
   "source": [
    "Finalize the implementation of the `crossover_operator` method."
   ]
  },
  {
   "cell_type": "code",
   "metadata": {
    "ExecuteTime": {
     "end_time": "2024-11-19T14:56:17.795792Z",
     "start_time": "2024-11-19T14:56:17.793383Z"
    }
   },
   "source": [
    "def crossover_operator(parent1, parent2):\n",
    "\n",
    "    \"\"\"\n",
    "    Perform crossover to produce an offspring from two parent solutions.\n",
    "\n",
    "    Parameters:\n",
    "    -----------\n",
    "    parent1 : ndarray\n",
    "        A 1D array representing the first parent (a permutation of city indices).\n",
    "    parent2 : ndarray\n",
    "        A 1D array representing the second parent (a permutation of city indices).\n",
    "\n",
    "    Returns:\n",
    "    --------\n",
    "    child : ndarray\n",
    "        A 1D array representing the offspring, combining genetic material from both parents.\n",
    "\n",
    "    Description:\n",
    "    ------------\n",
    "        Complete the description.\n",
    "    \"\"\"\n",
    "\n",
    "    # Randomly choose a crossover point\n",
    "    crossover_point = np.random.randint(1, len(parent1))\n",
    "\n",
    "    child = parent1.copy()\n",
    "\n",
    "    # Produce child by combining parents' genetic material\n",
    "    child[:crossover_point] = parent1[:crossover_point]\n",
    "\n",
    "    # For the remaining cities to visit, add them from parent2 in the order they appear\n",
    "    for city in parent2:\n",
    "        if city not in child:\n",
    "            child[crossover_point] = city\n",
    "            crossover_point += 1\n",
    "\n",
    "    return child    "
   ],
   "outputs": [],
   "execution_count": 31
  },
  {
   "cell_type": "code",
   "metadata": {
    "ExecuteTime": {
     "end_time": "2024-11-19T14:56:17.808694Z",
     "start_time": "2024-11-19T14:56:17.804767Z"
    }
   },
   "source": [
    "def crossover(parents, crossover_rate):\n",
    "\n",
    "    \"\"\"\n",
    "    Perform crossover on a population of parent solutions to produce offspring for the next generation.\n",
    "\n",
    "    Parameters:\n",
    "    -----------\n",
    "    parents : ndarray\n",
    "        A 2D array where each row represents a parent solution (a permutation of city indices).\n",
    "    crossover_rate : float\n",
    "        The probability of applying crossover to a pair of parents (value between 0 and 1).\n",
    "\n",
    "    Returns:\n",
    "    --------\n",
    "    offspring : ndarray\n",
    "        A 2D array of the same shape as `parents`, containing the offspring produced by crossover.\n",
    "\n",
    "    Description:\n",
    "    ------------\n",
    "    This function generates offspring by pairing parents and applying a crossover operator:\n",
    "    1. Randomly shuffle the parents to create random pairs.\n",
    "    2. For each pair of parents, apply crossover with a probability defined by `crossover_rate`.\n",
    "       - If crossover occurs, use `crossover_operator` to produce two children.\n",
    "       - If not, directly copy the parents as the children.\n",
    "    3. Continue until all parents are processed, ensuring the offspring population size matches the original.\n",
    "\n",
    "    This approach maintains diversity while combining genetic material from pairs of parents to explore the search space.\n",
    "    \"\"\"\n",
    "\n",
    "    num_parents, num_genes = parents.shape\n",
    "    np.random.shuffle(parents)\n",
    "    offspring = []\n",
    "\n",
    "    for i in range(0, num_parents, 2):\n",
    "\n",
    "        parent1 = parents[i]\n",
    "        parent2 = parents[i + 1 if i + 1 < num_parents else 0]\n",
    "\n",
    "        if np.random.rand() < crossover_rate:\n",
    "            child1 = crossover_operator(parent1, parent2)\n",
    "            child2 = crossover_operator(parent2, parent1)\n",
    "        else:\n",
    "            child1 = parent1.copy()\n",
    "            child2 = parent2.copy()\n",
    "\n",
    "        offspring.append(child1)\n",
    "        offspring.append(child2)\n",
    "\n",
    "    return np.array(offspring)"
   ],
   "outputs": [],
   "execution_count": 32
  },
  {
   "cell_type": "markdown",
   "metadata": {},
   "source": [
    "Finalize the implementation of the `mutation` method."
   ]
  },
  {
   "cell_type": "code",
   "metadata": {
    "ExecuteTime": {
     "end_time": "2024-11-19T14:56:17.821181Z",
     "start_time": "2024-11-19T14:56:17.818132Z"
    }
   },
   "source": [
    "\n",
    "def mutation(offspring, mutation_rate):\n",
    "\n",
    "    \"\"\"\n",
    "    Apply mutation to a population of offspring.\n",
    "\n",
    "    Parameters:\n",
    "    -----------\n",
    "    offspring : ndarray\n",
    "        A 2D array where each row represents an offspring solution (a permutation of city indices).\n",
    "    mutation_rate : float\n",
    "        The probability of applying mutation to each offspring (value between 0 and 1).\n",
    "\n",
    "    Returns:\n",
    "    --------\n",
    "    offspring : ndarray\n",
    "        A 2D array of the same shape as the input, with mutations applied to some individuals.\n",
    "\n",
    "    Description:\n",
    "    ------------\n",
    "        Complete the description.\n",
    "    \"\"\"\n",
    "\n",
    "    num_offspring, num_genes = offspring.shape\n",
    "\n",
    "    for i in range(num_offspring):\n",
    "        if np.random.rand() < mutation_rate:\n",
    "            # Apply mutation by randomly swapping two cities in the route\n",
    "            city1, city2 = np.random.choice(num_genes, size=2, replace=False)\n",
    "            offspring[i, city1], offspring[i, city2] = offspring[i, city2], offspring[i, city1]\n",
    "\n",
    "    return offspring"
   ],
   "outputs": [],
   "execution_count": 33
  },
  {
   "cell_type": "code",
   "metadata": {
    "ExecuteTime": {
     "end_time": "2024-11-19T14:56:17.832429Z",
     "start_time": "2024-11-19T14:56:17.830160Z"
    }
   },
   "source": [
    "def elitism(population, fitness, elite_size):\n",
    "\n",
    "    \"\"\"\n",
    "    Retain the top-performing individuals in a population based on their fitness.\n",
    "\n",
    "    Parameters:\n",
    "    -----------\n",
    "    population : ndarray\n",
    "        A 2D array where each row represents an individual solution.\n",
    "    fitness : ndarray\n",
    "        A 1D array containing the fitness values of the individuals in the population.\n",
    "    elite_size : int\n",
    "        The number of top-performing individuals to retain.\n",
    "\n",
    "    Returns:\n",
    "    --------\n",
    "    elite_population : ndarray\n",
    "        A 2D array containing the `elite_size` individuals with the highest fitness.\n",
    "\n",
    "    Description:\n",
    "    ------------\n",
    "    This function implements elitism, which ensures that the best solutions are carried\n",
    "    over to the next generation without modification:\n",
    "    1. Sort the individuals in the population by their fitness values.\n",
    "    2. Select the indices of the top `elite_size` individuals.\n",
    "    3. Return the corresponding elite individuals from the population.\n",
    "\n",
    "    Elitism helps preserve high-quality solutions, improving the stability and convergence\n",
    "    of a Genetic Algorithm.\n",
    "    \"\"\"\n",
    "\n",
    "    elite_indices = np.argsort(fitness)[-elite_size:]\n",
    "\n",
    "    return population[elite_indices]"
   ],
   "outputs": [],
   "execution_count": 34
  },
  {
   "cell_type": "code",
   "metadata": {
    "ExecuteTime": {
     "end_time": "2024-11-19T14:56:17.847037Z",
     "start_time": "2024-11-19T14:56:17.841415Z"
    }
   },
   "source": [
    "def genetic_algorithm(distance_matrix, pop_size=100, num_generations=200, crossover_rate=0.8,\n",
    "                      mutation_rate=0.05, elite_percent=0.02, selection_type='tournament', tournament_size=3):\n",
    "\n",
    "    \"\"\"\n",
    "    Solve the Traveling Salesman Problem (TSP) using a Genetic Algorithm (GA).\n",
    "\n",
    "    Parameters:\n",
    "    -----------\n",
    "    distance_matrix : ndarray\n",
    "        A square matrix where entry (i, j) represents the distance between city i and city j.\n",
    "    pop_size : int, optional\n",
    "        The size of the population (default: 100).\n",
    "    num_generations : int, optional\n",
    "        The number of generations to evolve (default: 200).\n",
    "    crossover_rate : float, optional\n",
    "        The probability of applying crossover to a pair of parents (default: 0.8).\n",
    "    mutation_rate : float, optional\n",
    "        The probability of mutating an offspring (default: 0.05).\n",
    "    elite_percent : float, optional\n",
    "        The fraction of the population to preserve as elites (default: 0.02).\n",
    "    selection_type : str, optional\n",
    "        The selection method to use ('tournament' or 'roulette', default: 'tournament').\n",
    "    tournament_size : int, optional\n",
    "        The number of participants in each tournament (used only for tournament selection, default: 3).\n",
    "\n",
    "    Returns:\n",
    "    --------\n",
    "    best_solution : ndarray\n",
    "        The order of cities in the best route found.\n",
    "    best_distance : float\n",
    "        The total distance of the best route.\n",
    "    average_distance_history : list\n",
    "        The average total distance of the population at each generation.\n",
    "    best_distance_history : list\n",
    "        The best total distance in the population at each generation.\n",
    "\n",
    "    Description:\n",
    "    ------------\n",
    "    This function implements a Genetic Algorithm (GA) to find an approximate solution to the TSP:\n",
    "    1. **Initialization**: Create a random initial population of routes.\n",
    "    2. **Evaluation**: Compute the fitness of individuals based on their route distances.\n",
    "    3. **Elitism**: Preserve the top-performing individuals for the next generation.\n",
    "    4. **Selection**: Choose parents using tournament or roulette wheel selection.\n",
    "    5. **Crossover**: Generate offspring by combining parents using a crossover operator.\n",
    "    6. **Mutation**: Introduce diversity by randomly mutating offspring.\n",
    "    7. **Replacement**: Combine elites and offspring to form the next generation.\n",
    "    8. Repeat steps 2-7 for a fixed number of generations, tracking the best and average distances.\n",
    "\n",
    "    At the end of the evolution process, the function returns the best solution found, along with metrics\n",
    "    for performance analysis over generations.\n",
    "\n",
    "    Notes:\n",
    "    ------\n",
    "    - The algorithm ensures the population size remains constant across generations.\n",
    "    - `selection_type` determines the strategy used for selecting parents (tournament is the default).\n",
    "    - The function can be customized further with different crossover and mutation operators.\n",
    "    \"\"\"\n",
    "\n",
    "    num_cities = distance_matrix.shape[0]\n",
    "    elite_size = max(1, int(pop_size * elite_percent))\n",
    "    population = initialize_population(pop_size, num_cities)\n",
    "    \n",
    "    average_distance_history = []\n",
    "    best_distance_history = []\n",
    "    \n",
    "    for generation in range(num_generations):\n",
    "\n",
    "        fitness, total_distances = evaluate_fitness(population, distance_matrix)\n",
    "        \n",
    "        # Track average and best distances\n",
    "        average_distance = np.mean(total_distances)\n",
    "        best_distance = np.min(total_distances)\n",
    "        average_distance_history.append(average_distance)\n",
    "        best_distance_history.append(best_distance)\n",
    "\n",
    "        # Elitism\n",
    "        elites = elitism(population, fitness, elite_size)\n",
    "\n",
    "        # Selection\n",
    "        if selection_type == 'tournament':\n",
    "            parents = tournament_selection(population, fitness, tournament_size)\n",
    "        elif selection_type == 'roulette':\n",
    "            parents = roulette_selection(population, fitness)\n",
    "        else:\n",
    "            raise ValueError(\"Invalid selection type\")\n",
    "\n",
    "        # Crossover\n",
    "        offspring = crossover(parents, crossover_rate)\n",
    "\n",
    "        # Mutation\n",
    "        offspring = mutation(offspring, mutation_rate)\n",
    "\n",
    "        # Create new population\n",
    "        population = np.vstack((elites, offspring))\n",
    "\n",
    "        # Ensure population size\n",
    "        if population.shape[0] > pop_size:\n",
    "            population = population[:pop_size]\n",
    "        elif population.shape[0] < pop_size:\n",
    "            num_new_individuals = pop_size - population.shape[0]\n",
    "            new_individuals = initialize_population(num_new_individuals, num_cities)\n",
    "            population = np.vstack((population, new_individuals))\n",
    "\n",
    "    # Final evaluation to return the best solution\n",
    "    fitness, total_distances = evaluate_fitness(population, distance_matrix)\n",
    "    best_index = np.argmax(fitness)\n",
    "    best_solution = population[best_index]\n",
    "    best_distance = total_distances[best_index]\n",
    "\n",
    "    return best_solution, best_distance, average_distance_history, best_distance_history"
   ],
   "outputs": [],
   "execution_count": 35
  },
  {
   "cell_type": "code",
   "metadata": {
    "ExecuteTime": {
     "end_time": "2024-11-19T14:56:17.859277Z",
     "start_time": "2024-11-19T14:56:17.855940Z"
    }
   },
   "source": [
    "def genetic_algorithm_do_n(distance_matrix, pop_size=100, num_generations=200, crossover_rate=0.8,\n",
    "                           mutation_rate=0.05, elite_percent=0.02, selection_type='tournament',\n",
    "                           tournament_size=3, repeats=20):\n",
    "\n",
    "    \"\"\"\n",
    "    Run the Genetic Algorithm multiple times and return the best solution across all runs.\n",
    "\n",
    "    Parameters:\n",
    "    -----------\n",
    "    distance_matrix : ndarray\n",
    "        A square matrix where entry (i, j) represents the distance between city i and city j.\n",
    "    pop_size : int, optional\n",
    "        The size of the population (default: 100).\n",
    "    num_generations : int, optional\n",
    "        The number of generations to evolve in each run (default: 200).\n",
    "    crossover_rate : float, optional\n",
    "        The probability of applying crossover to a pair of parents (default: 0.8).\n",
    "    mutation_rate : float, optional\n",
    "        The probability of mutating an offspring (default: 0.05).\n",
    "    elite_percent : float, optional\n",
    "        The fraction of the population to preserve as elites (default: 0.02).\n",
    "    selection_type : str, optional\n",
    "        The selection method to use ('tournament' or 'roulette', default: 'tournament').\n",
    "    tournament_size : int, optional\n",
    "        The number of participants in each tournament (used only for tournament selection, default: 3).\n",
    "    repeats : int, optional\n",
    "        The number of times to repeat the Genetic Algorithm (default: 20).\n",
    "\n",
    "    Returns:\n",
    "    --------\n",
    "    best_tour : ndarray\n",
    "        The order of cities in the best route found across all runs.\n",
    "    best_distance : float\n",
    "        The total distance of the best route across all runs.\n",
    "    best_averages : list\n",
    "        The average total distances of the population at each generation for the best run.\n",
    "    best_bests : list\n",
    "        The best total distances at each generation for the best run.\n",
    "\n",
    "    Description:\n",
    "    ------------\n",
    "    This function runs the Genetic Algorithm multiple times to improve the chances of finding a globally\n",
    "    optimal solution. For each run, the results are compared, and the best route and corresponding metrics\n",
    "    are retained. This approach leverages the stochastic nature of Genetic Algorithms to explore the solution\n",
    "    space more thoroughly.\n",
    "    \"\"\"\n",
    "\n",
    "    results = [\n",
    "        genetic_algorithm(distance_matrix, pop_size, num_generations, crossover_rate,\n",
    "                          mutation_rate, elite_percent, selection_type, tournament_size)\n",
    "        for _ in range(repeats)\n",
    "    ]\n",
    "    \n",
    "    best_tour, distance, averages, bests = min(results, key=lambda x: x[1])  # Minimize by total distance\n",
    "\n",
    "    return best_tour, distance, averages, bests\n"
   ],
   "outputs": [],
   "execution_count": 36
  },
  {
   "cell_type": "markdown",
   "metadata": {},
   "source": [
    "The following function may assist in visualizing results and debugging your programs."
   ]
  },
  {
   "cell_type": "code",
   "metadata": {
    "ExecuteTime": {
     "end_time": "2024-11-19T14:56:17.871674Z",
     "start_time": "2024-11-19T14:56:17.868609Z"
    }
   },
   "source": [
    "def plot_fitness_over_generations(avg_distances, best_distances):\n",
    "\n",
    "    \"\"\"\n",
    "    Plot the average and best distances over generations in a Genetic Algorithm.\n",
    "\n",
    "    Parameters:\n",
    "    -----------\n",
    "    avg_distances : list or ndarray\n",
    "        A sequence of average distances of the population at each generation.\n",
    "    best_distances : list or ndarray\n",
    "        A sequence of the best (minimum) distances found at each generation.\n",
    "\n",
    "    Description:\n",
    "    ------------\n",
    "    This function generates a line plot to visualize how the average and best distances\n",
    "    evolve over the generations during the execution of a Genetic Algorithm. It helps in\n",
    "    understanding the convergence behavior and effectiveness of the algorithm.\n",
    "\n",
    "    - **X-axis**: Represents the generation number.\n",
    "    - **Y-axis**: Represents the distance (cost) values.\n",
    "    - **Curves**:\n",
    "        - *Average Distance*: Shows the average performance of the population at each generation.\n",
    "        - *Best Distance*: Highlights the best solution found up to that generation.\n",
    "\n",
    "    Example:\n",
    "    --------\n",
    "    >>> plot_fitness_over_generations(average_distance_history, best_distance_history)\n",
    "\n",
    "    Notes:\n",
    "    ------\n",
    "    - Ensure that `avg_distances` and `best_distances` are of the same length, corresponding to the number of generations.\n",
    "    - Requires `matplotlib.pyplot` as `plt` to be imported before calling this function.\n",
    "    - Call `plt.show()` if the plot does not display automatically in your environment.\n",
    "    \"\"\"\n",
    "    \n",
    "    # Plot the fitness over generations\n",
    "    generations = range(1, len(avg_distances) + 1)\n",
    "    plt.figure(figsize=(6, 6))\n",
    "\n",
    "    # Plot average and best distances over generations\n",
    "    plt.plot(generations, avg_distances, label='Average Distance')\n",
    "    plt.plot(generations, best_distances, label='Best Distance')\n",
    "    plt.xlabel('Generation')\n",
    "    plt.ylabel('Distance')\n",
    "    plt.title('Distance Over Generations')\n",
    "    plt.legend()\n",
    "    plt.show()"
   ],
   "outputs": [],
   "execution_count": 37
  },
  {
   "cell_type": "markdown",
   "metadata": {},
   "source": [
    "<hr/>\n",
    "\n",
    "## 2. Experimentation"
   ]
  },
  {
   "cell_type": "markdown",
   "metadata": {},
   "source": [
    "### 2.1. Execute Each Algorithm on Both Datasets\n",
    "\n",
    "- Run the **Greedy Algorithm**, **Simulated Annealing**, and **Genetic Algorithm** on the `berlin52_24_4` and `st70_24_4` datasets separately.\n",
    "- Perform at least **10 independent runs** of each algorithm on each dataset to capture variability in performance.\n",
    "- For each run:\n",
    "  - Exectue **Greedy Algorithm** from each starting city.\n",
    "  - For **Simulated Annealing** and **Genetic Algorithm**, execute the algorithm for **100 iterations**.\n",
    "  - Record the following performance metrics:\n",
    "    - **Best Path Cost**: The lowest cost achieved for the tour.\n",
    "    - **Execution Time**: The total time taken by the algorithm to complete.\n",
    "\n",
    "- For each algorithm and each dataset, compute and report the average of the recorded metrics across all executions."
   ]
  },
  {
   "cell_type": "code",
   "metadata": {
    "ExecuteTime": {
     "end_time": "2024-11-19T14:56:29.282957Z",
     "start_time": "2024-11-19T14:56:28.990382Z"
    }
   },
   "source": [
    "# Test simulated annealing on berlin52_24_4\n",
    "berlin52_24_4_distance_matrix = get_distance_matrix(berlin52_24_4)\n",
    "initial_temp = get_initial_temperature(berlin52_24_4_distance_matrix)\n",
    "simulated_annealing_do_n(berlin52_24_4_distance_matrix, initial_temp)[1]"
   ],
   "outputs": [
    {
     "data": {
      "text/plain": [
       "5931.631960487418"
      ]
     },
     "execution_count": 42,
     "metadata": {},
     "output_type": "execute_result"
    }
   ],
   "execution_count": 42
  },
  {
   "cell_type": "code",
   "metadata": {
    "ExecuteTime": {
     "end_time": "2024-11-19T14:56:27.173663Z",
     "start_time": "2024-11-19T14:56:26.888463Z"
    }
   },
   "source": [
    "# Test simulated annealing on st70_24_4\n",
    "st70_24_4_distance_matrix = get_distance_matrix(st70_24_4)\n",
    "initial_temp = get_initial_temperature(st70_24_4_distance_matrix)\n",
    "simulated_annealing_do_n(st70_24_4_distance_matrix, initial_temp)[1]"
   ],
   "outputs": [
    {
     "data": {
      "text/plain": [
       "498.2910015249993"
      ]
     },
     "execution_count": 41,
     "metadata": {},
     "output_type": "execute_result"
    }
   ],
   "execution_count": 41
  },
  {
   "cell_type": "markdown",
   "metadata": {},
   "source": [
    "**Hint**: Utilize the following method to measure elapsed time."
   ]
  },
  {
   "metadata": {},
   "cell_type": "code",
   "source": [
    "# Test genetic algorithm on berlin52_24_4\n",
    "berlin52_24_4_distance_matrix = get_distance_matrix(berlin52_24_4)\n",
    "genetic_algorithm_do_n(berlin52_24_4_distance_matrix)[1]"
   ],
   "outputs": [],
   "execution_count": null
  },
  {
   "metadata": {
    "ExecuteTime": {
     "end_time": "2024-11-19T15:03:44.349261Z",
     "start_time": "2024-11-19T15:03:24.363284Z"
    }
   },
   "cell_type": "code",
   "source": [
    "# Test genetic algorithm on st70_24_4\n",
    "st70_24_4_distance_matrix = get_distance_matrix(st70_24_4)\n",
    "genetic_algorithm_do_n(st70_24_4_distance_matrix)[1]"
   ],
   "outputs": [
    {
     "data": {
      "text/plain": [
       "539.576379143687"
      ]
     },
     "execution_count": 62,
     "metadata": {},
     "output_type": "execute_result"
    }
   ],
   "execution_count": 62
  },
  {
   "cell_type": "code",
   "execution_count": 30,
   "metadata": {},
   "outputs": [],
   "source": [
    "\n",
    "start_time = time.time()\n",
    "\n",
    "# Execute the code block you wish to time\n",
    "\n",
    "end_time = time.time()\n",
    "\n",
    "elapsed_time = end_time - start_time"
   ]
  },
  {
   "cell_type": "markdown",
   "metadata": {},
   "source": [
    "### 2.2. Results Discussion\n",
    "\n",
    "Conduct a thorough analysis of the algorithmic performance on the `berlin52_24_4` and `st70_24_4` datasets, addressing the following key points:\n",
    "\n",
    "1. **Performance Comparison**:\n",
    "\n",
    "   - Examine the **average best path costs** achieved by each algorithm on both datasets. Identify which algorithm most closely approximates the optimal solution.\n",
    "   - Discuss any observed performance differences between the datasets. Consider whether the size or complexity of a dataset influences the results.\n",
    "\n",
    "2. **Consistency**:\n",
    "\n",
    "   - Assess the variability of results across multiple runs for each algorithm. Determine whether the results are consistent or if there are significant fluctuations between executions.\n",
    "   - Note any trends or patterns in the solutions, such as whether an algorithm consistently yields higher costs or achieves faster execution times.\n",
    "\n",
    "3. **Efficiency**:\n",
    "\n",
    "   - Compare the **average execution times** of the algorithms. Identify the fastest and slowest algorithms, and consider any trade-offs between computational efficiency and solution quality.\n",
    "\n",
    "4. **Strengths and Weaknesses**:\n",
    "\n",
    "   - Highlight the strengths of each algorithm, such as speed, accuracy, or reliability.\n",
    "   - Discuss any limitations or weaknesses encountered during the experiments, including sensitivity to initialization, propensity to get trapped in local optima, or high computational demands.\n",
    "\n",
    "5. **Insights and Implications**:\n",
    "\n",
    "   - Summarize the key insights gained from the analysis. Consider what the results suggest about each algorithm's suitability for solving the TSP.\n",
    "   - Offer observations on how algorithm performance might scale with larger datasets.\n",
    "\n",
    "Enhance your discussion with tables, charts, or visualizations to clarify and emphasize your analysis."
   ]
  },
  {
   "cell_type": "markdown",
   "metadata": {},
   "source": [
    "Answer here:"
   ]
  },
  {
   "cell_type": "markdown",
   "metadata": {},
   "source": [
    "<hr/>\n",
    "\n",
    "## 3 Optional Bonus Question\n",
    "\n",
    "This question is optional and offers up to 5 bonus points for executing your program on the full datasets, `berlin52` and `st70`.\n",
    "\n",
    "Grading Rubric:\n",
    "\n",
    "- **5 points**: Both Simulated Annealing (SA) and Genetic Algorithm (GA) achieve the optimal solution for both datasets.\n",
    "- **4 points**: Both SA and GA achieve solutions within 5% of the optimal for both datasets.\n",
    "- **3 points**: Both SA and GA outperform greedy algorithms for both datasets.\n",
    "- **2 points**: Either SA or GA achieves the optimal solution for both datasets.\n",
    "- **1 point**: Either SA or GA outperforms greedy algorithms for both datasets.\n",
    "\n",
    "Include the necessary source code below to demonstrate your results. The base implementation of SA and GA should remain consistent with the main part of this assignment, with only input parameters varying."
   ]
  },
  {
   "cell_type": "code",
   "metadata": {
    "ExecuteTime": {
     "end_time": "2024-11-19T15:02:02.487862Z",
     "start_time": "2024-11-19T15:01:45.652805Z"
    }
   },
   "source": [
    "# Execute the code block to demonstrate the optional bonus question\n",
    "# Berlin52\n",
    "berlin52_distance_matrix = get_distance_matrix(berlin_52)\n",
    "\n",
    "#Generate temperatures from 0 to 1000\n",
    "temp = np.linspace(0, 1000000, 1000)\n",
    "\n",
    "#Simulated Annealing\n",
    "\n",
    "for i in range(1000):\n",
    "    print(simulated_annealing_do_n(berlin52_distance_matrix, temp[i])[1])"
   ],
   "outputs": [
    {
     "name": "stderr",
     "output_type": "stream",
     "text": [
      "/var/folders/nm/77nck9h149l5_d5fcpyb66380000gn/T/ipykernel_30819/1275882080.py:61: RuntimeWarning: divide by zero encountered in double_scalars\n",
      "  if neighbor_cost < current_cost or np.random.rand() < np.exp(-(neighbor_cost - current_cost) / temperature):\n",
      "/var/folders/nm/77nck9h149l5_d5fcpyb66380000gn/T/ipykernel_30819/1275882080.py:61: RuntimeWarning: invalid value encountered in double_scalars\n",
      "  if neighbor_cost < current_cost or np.random.rand() < np.exp(-(neighbor_cost - current_cost) / temperature):\n"
     ]
    },
    {
     "name": "stdout",
     "output_type": "stream",
     "text": [
      "9965.951154818658\n",
      "10865.01549563398\n",
      "11304.072950707397\n",
      "11751.077710440455\n",
      "12717.023639642457\n",
      "11729.255258111834\n",
      "13028.54327310884\n",
      "13972.202667584032\n",
      "13364.208132791127\n",
      "14237.01531717965\n",
      "14507.490690599556\n",
      "14298.6052892285\n",
      "15372.730437592676\n",
      "15585.8353494535\n",
      "15069.417094150298\n",
      "15090.7317649122\n",
      "15475.135235127036\n",
      "16569.80517900189\n",
      "16533.857544009134\n",
      "16902.1224152667\n",
      "16358.60788333678\n",
      "14653.009649884787\n",
      "16739.12263168137\n",
      "18026.42726835043\n",
      "17094.110140351648\n",
      "16570.839526582295\n",
      "16737.793996996294\n",
      "17581.782763015904\n",
      "17309.39247855937\n",
      "17927.801666237232\n",
      "18536.089345307828\n",
      "18878.93777772683\n",
      "15340.60957002633\n",
      "17612.71064290687\n",
      "18853.24575702937\n",
      "17389.13096146555\n",
      "18882.63798214333\n",
      "18688.908990817898\n",
      "17893.299614015403\n",
      "19017.622940800316\n",
      "18849.60241111848\n"
     ]
    },
    {
     "ename": "KeyboardInterrupt",
     "evalue": "",
     "output_type": "error",
     "traceback": [
      "\u001B[0;31m---------------------------------------------------------------------------\u001B[0m",
      "\u001B[0;31mKeyboardInterrupt\u001B[0m                         Traceback (most recent call last)",
      "Cell \u001B[0;32mIn[60], line 11\u001B[0m\n\u001B[1;32m      8\u001B[0m \u001B[38;5;66;03m#Simulated Annealing\u001B[39;00m\n\u001B[1;32m     10\u001B[0m \u001B[38;5;28;01mfor\u001B[39;00m i \u001B[38;5;129;01min\u001B[39;00m \u001B[38;5;28mrange\u001B[39m(\u001B[38;5;241m1000\u001B[39m):\n\u001B[0;32m---> 11\u001B[0m     \u001B[38;5;28mprint\u001B[39m(\u001B[43msimulated_annealing_do_n\u001B[49m\u001B[43m(\u001B[49m\u001B[43mberlin52_distance_matrix\u001B[49m\u001B[43m,\u001B[49m\u001B[43m \u001B[49m\u001B[43mtemp\u001B[49m\u001B[43m[\u001B[49m\u001B[43mi\u001B[49m\u001B[43m]\u001B[49m\u001B[43m)\u001B[49m[\u001B[38;5;241m1\u001B[39m])\n",
      "Cell \u001B[0;32mIn[25], line 36\u001B[0m, in \u001B[0;36msimulated_annealing_do_n\u001B[0;34m(distance_matrix, initial_temp, cooling_rate, max_iterations, repeats)\u001B[0m\n\u001B[1;32m      1\u001B[0m \u001B[38;5;28;01mdef\u001B[39;00m \u001B[38;5;21msimulated_annealing_do_n\u001B[39m(distance_matrix, initial_temp, cooling_rate\u001B[38;5;241m=\u001B[39m\u001B[38;5;241m0.995\u001B[39m, max_iterations\u001B[38;5;241m=\u001B[39m\u001B[38;5;241m1000\u001B[39m, repeats\u001B[38;5;241m=\u001B[39m\u001B[38;5;241m20\u001B[39m):\n\u001B[1;32m      3\u001B[0m \u001B[38;5;250m    \u001B[39m\u001B[38;5;124;03m\"\"\"\u001B[39;00m\n\u001B[1;32m      4\u001B[0m \u001B[38;5;124;03m    Perform Simulated Annealing multiple times and return the best result across all runs.\u001B[39;00m\n\u001B[1;32m      5\u001B[0m \n\u001B[0;32m   (...)\u001B[0m\n\u001B[1;32m     33\u001B[0m \u001B[38;5;124;03m    By repeating the process multiple times, it increases the likelihood of finding a globally optimal or near-optimal solution.\u001B[39;00m\n\u001B[1;32m     34\u001B[0m \u001B[38;5;124;03m    \"\"\"\u001B[39;00m\n\u001B[0;32m---> 36\u001B[0m     results \u001B[38;5;241m=\u001B[39m [\n\u001B[1;32m     37\u001B[0m         simulated_annealing(distance_matrix, initial_temp, cooling_rate, max_iterations)\n\u001B[1;32m     38\u001B[0m         \u001B[38;5;28;01mfor\u001B[39;00m _ \u001B[38;5;129;01min\u001B[39;00m \u001B[38;5;28mrange\u001B[39m(repeats)\n\u001B[1;32m     39\u001B[0m     ]\n\u001B[1;32m     41\u001B[0m     \u001B[38;5;66;03m# Find the best result by minimizing the distance\u001B[39;00m\n\u001B[1;32m     42\u001B[0m     best_tour, best_distance, best_temperatures, best_costs \u001B[38;5;241m=\u001B[39m \u001B[38;5;28mmin\u001B[39m(results, key\u001B[38;5;241m=\u001B[39m\u001B[38;5;28;01mlambda\u001B[39;00m x: x[\u001B[38;5;241m1\u001B[39m])\n",
      "Cell \u001B[0;32mIn[25], line 37\u001B[0m, in \u001B[0;36m<listcomp>\u001B[0;34m(.0)\u001B[0m\n\u001B[1;32m      1\u001B[0m \u001B[38;5;28;01mdef\u001B[39;00m \u001B[38;5;21msimulated_annealing_do_n\u001B[39m(distance_matrix, initial_temp, cooling_rate\u001B[38;5;241m=\u001B[39m\u001B[38;5;241m0.995\u001B[39m, max_iterations\u001B[38;5;241m=\u001B[39m\u001B[38;5;241m1000\u001B[39m, repeats\u001B[38;5;241m=\u001B[39m\u001B[38;5;241m20\u001B[39m):\n\u001B[1;32m      3\u001B[0m \u001B[38;5;250m    \u001B[39m\u001B[38;5;124;03m\"\"\"\u001B[39;00m\n\u001B[1;32m      4\u001B[0m \u001B[38;5;124;03m    Perform Simulated Annealing multiple times and return the best result across all runs.\u001B[39;00m\n\u001B[1;32m      5\u001B[0m \n\u001B[0;32m   (...)\u001B[0m\n\u001B[1;32m     33\u001B[0m \u001B[38;5;124;03m    By repeating the process multiple times, it increases the likelihood of finding a globally optimal or near-optimal solution.\u001B[39;00m\n\u001B[1;32m     34\u001B[0m \u001B[38;5;124;03m    \"\"\"\u001B[39;00m\n\u001B[1;32m     36\u001B[0m     results \u001B[38;5;241m=\u001B[39m [\n\u001B[0;32m---> 37\u001B[0m         \u001B[43msimulated_annealing\u001B[49m\u001B[43m(\u001B[49m\u001B[43mdistance_matrix\u001B[49m\u001B[43m,\u001B[49m\u001B[43m \u001B[49m\u001B[43minitial_temp\u001B[49m\u001B[43m,\u001B[49m\u001B[43m \u001B[49m\u001B[43mcooling_rate\u001B[49m\u001B[43m,\u001B[49m\u001B[43m \u001B[49m\u001B[43mmax_iterations\u001B[49m\u001B[43m)\u001B[49m\n\u001B[1;32m     38\u001B[0m         \u001B[38;5;28;01mfor\u001B[39;00m _ \u001B[38;5;129;01min\u001B[39;00m \u001B[38;5;28mrange\u001B[39m(repeats)\n\u001B[1;32m     39\u001B[0m     ]\n\u001B[1;32m     41\u001B[0m     \u001B[38;5;66;03m# Find the best result by minimizing the distance\u001B[39;00m\n\u001B[1;32m     42\u001B[0m     best_tour, best_distance, best_temperatures, best_costs \u001B[38;5;241m=\u001B[39m \u001B[38;5;28mmin\u001B[39m(results, key\u001B[38;5;241m=\u001B[39m\u001B[38;5;28;01mlambda\u001B[39;00m x: x[\u001B[38;5;241m1\u001B[39m])\n",
      "Cell \u001B[0;32mIn[24], line 58\u001B[0m, in \u001B[0;36msimulated_annealing\u001B[0;34m(distance_matrix, initial_temp, cooling_rate, max_iterations)\u001B[0m\n\u001B[1;32m     55\u001B[0m \u001B[38;5;28;01mfor\u001B[39;00m iteration \u001B[38;5;129;01min\u001B[39;00m \u001B[38;5;28mrange\u001B[39m(max_iterations):\n\u001B[1;32m     57\u001B[0m     neighbor_route \u001B[38;5;241m=\u001B[39m get_neighbor(current_route)\n\u001B[0;32m---> 58\u001B[0m     neighbor_cost \u001B[38;5;241m=\u001B[39m \u001B[43mcalculate_total_distance\u001B[49m\u001B[43m(\u001B[49m\u001B[43mneighbor_route\u001B[49m\u001B[43m,\u001B[49m\u001B[43m \u001B[49m\u001B[43mdistance_matrix\u001B[49m\u001B[43m)\u001B[49m\n\u001B[1;32m     60\u001B[0m     \u001B[38;5;66;03m# Accept neighbor if it's better, or with a probability if it's worse\u001B[39;00m\n\u001B[1;32m     61\u001B[0m     \u001B[38;5;28;01mif\u001B[39;00m neighbor_cost \u001B[38;5;241m<\u001B[39m current_cost \u001B[38;5;129;01mor\u001B[39;00m np\u001B[38;5;241m.\u001B[39mrandom\u001B[38;5;241m.\u001B[39mrand() \u001B[38;5;241m<\u001B[39m np\u001B[38;5;241m.\u001B[39mexp(\u001B[38;5;241m-\u001B[39m(neighbor_cost \u001B[38;5;241m-\u001B[39m current_cost) \u001B[38;5;241m/\u001B[39m temperature):\n",
      "Cell \u001B[0;32mIn[21], line 28\u001B[0m, in \u001B[0;36mcalculate_total_distance\u001B[0;34m(route, distance_matrix)\u001B[0m\n\u001B[1;32m     25\u001B[0m total_distance \u001B[38;5;241m=\u001B[39m \u001B[38;5;241m0\u001B[39m\n\u001B[1;32m     27\u001B[0m \u001B[38;5;28;01mfor\u001B[39;00m i \u001B[38;5;129;01min\u001B[39;00m \u001B[38;5;28mrange\u001B[39m(\u001B[38;5;28mlen\u001B[39m(route) \u001B[38;5;241m-\u001B[39m \u001B[38;5;241m1\u001B[39m):\n\u001B[0;32m---> 28\u001B[0m     total_distance \u001B[38;5;241m+\u001B[39m\u001B[38;5;241m=\u001B[39m distance_matrix[route[i], route[i \u001B[38;5;241m+\u001B[39m \u001B[38;5;241m1\u001B[39m]]\n\u001B[1;32m     30\u001B[0m total_distance \u001B[38;5;241m+\u001B[39m\u001B[38;5;241m=\u001B[39m distance_matrix[route[\u001B[38;5;241m-\u001B[39m\u001B[38;5;241m1\u001B[39m], route[\u001B[38;5;241m0\u001B[39m]]  \u001B[38;5;66;03m# Back to start\u001B[39;00m\n\u001B[1;32m     32\u001B[0m \u001B[38;5;28;01mreturn\u001B[39;00m total_distance\n",
      "\u001B[0;31mKeyboardInterrupt\u001B[0m: "
     ]
    }
   ],
   "execution_count": 60
  },
  {
   "metadata": {
    "ExecuteTime": {
     "end_time": "2024-11-19T15:05:59.113484Z",
     "start_time": "2024-11-19T15:05:21.324890Z"
    }
   },
   "cell_type": "code",
   "source": "print(genetic_algorithm_do_n(berlin52_distance_matrix)[1])",
   "outputs": [
    {
     "name": "stdout",
     "output_type": "stream",
     "text": [
      "12284.218749213886\n"
     ]
    }
   ],
   "execution_count": 64
  },
  {
   "cell_type": "markdown",
   "metadata": {},
   "source": [
    "# Evaluation Criteria\n",
    "\n",
    "- **Overall Effort in the Report (10%)**\n",
    "  \n",
    "- **Greedy Algorithm Implementation (20%)**\n",
    "  \n",
    "- **Simulated Annealing Implementation (15%)**\n",
    "  \n",
    "- **Genetic Algorithm Implementation (30%)**\n",
    "  \n",
    "- **Execution (15%)**\n",
    "  \n",
    "- **Analysis of Results (10%)**\n",
    "\n",
    "# Resources\n",
    "\n",
    "As for previous assignments, it is crucial to cite any sections of your code that are derived from external sources such as websites, textbooks, or other materials. This includes acknowledging libraries you have used, regardless of your prior familiarity with the concepts.\n",
    "\n",
    "The use of artificial intelligence to enhance programming productivity is increasingly common and expected to grow. While these technologies can be employed to assist with assignments, it is essential that you fully understand the evaluated concepts, as such tools will not be available during in-person assessments.\n",
    "\n",
    "If you utilize AI assistance, meticulously document your interactions. Include the tools and their versions in your report, accompanied by a transcript of all interactions. Most AI assistants maintain records of your conversations. It is advisable to create a new conversation specifically for the assignment and reuse this thread consistently throughout your work. Ensure this conversation focuses exclusively on the assignment. Include the conversation transcript in the reference section of your Jupyter Notebook.\n",
    "\n",
    "# Questions\n",
    "\n",
    "- You may post questions in the Assignment topic on the Brightspace discussion forum.\n",
    "\n",
    "- Alternatively, you can email one of the four teaching assistants. However, using the forum is strongly preferred as it allows all students to benefit from the questions and the teaching assistants' responses."
   ]
  }
 ],
 "metadata": {
  "kernelspec": {
   "display_name": "Python 3 (ipykernel)",
   "language": "python",
   "name": "python3"
  },
  "language_info": {
   "codemirror_mode": {
    "name": "ipython",
    "version": 3
   },
   "file_extension": ".py",
   "mimetype": "text/x-python",
   "name": "python",
   "nbconvert_exporter": "python",
   "pygments_lexer": "ipython3",
   "version": "3.9.19"
  }
 },
 "nbformat": 4,
 "nbformat_minor": 4
}
